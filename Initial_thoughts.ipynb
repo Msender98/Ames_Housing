{
 "cells": [
  {
   "cell_type": "code",
   "execution_count": 5,
   "metadata": {},
   "outputs": [],
   "source": [
    "import numpy as np\n",
    "import pandas as pd\n",
    "%matplotlib inline \n"
   ]
  },
  {
   "cell_type": "code",
   "execution_count": 6,
   "metadata": {},
   "outputs": [
    {
     "data": {
      "text/plain": [
       "(2580, 81)"
      ]
     },
     "execution_count": 6,
     "metadata": {},
     "output_type": "execute_result"
    }
   ],
   "source": [
    "houses_data = pd.read_csv('./data/Ames_Housing_Price_Data.csv', index_col=0)\n",
    "houses_data.shape"
   ]
  },
  {
   "cell_type": "code",
   "execution_count": 4,
   "metadata": {
    "scrolled": false
   },
   "outputs": [
    {
     "name": "stdout",
     "output_type": "stream",
     "text": [
      "<class 'pandas.core.frame.DataFrame'>\n",
      "Int64Index: 2580 entries, 1 to 763\n",
      "Data columns (total 81 columns):\n",
      " #   Column         Non-Null Count  Dtype  \n",
      "---  ------         --------------  -----  \n",
      " 0   PID            2580 non-null   int64  \n",
      " 1   GrLivArea      2580 non-null   int64  \n",
      " 2   SalePrice      2580 non-null   int64  \n",
      " 3   MSSubClass     2580 non-null   int64  \n",
      " 4   MSZoning       2580 non-null   object \n",
      " 5   LotFrontage    2118 non-null   float64\n",
      " 6   LotArea        2580 non-null   int64  \n",
      " 7   Street         2580 non-null   object \n",
      " 8   Alley          168 non-null    object \n",
      " 9   LotShape       2580 non-null   object \n",
      " 10  LandContour    2580 non-null   object \n",
      " 11  Utilities      2580 non-null   object \n",
      " 12  LotConfig      2580 non-null   object \n",
      " 13  LandSlope      2580 non-null   object \n",
      " 14  Neighborhood   2580 non-null   object \n",
      " 15  Condition1     2580 non-null   object \n",
      " 16  Condition2     2580 non-null   object \n",
      " 17  BldgType       2580 non-null   object \n",
      " 18  HouseStyle     2580 non-null   object \n",
      " 19  OverallQual    2580 non-null   int64  \n",
      " 20  OverallCond    2580 non-null   int64  \n",
      " 21  YearBuilt      2580 non-null   int64  \n",
      " 22  YearRemodAdd   2580 non-null   int64  \n",
      " 23  RoofStyle      2580 non-null   object \n",
      " 24  RoofMatl       2580 non-null   object \n",
      " 25  Exterior1st    2580 non-null   object \n",
      " 26  Exterior2nd    2580 non-null   object \n",
      " 27  MasVnrType     2566 non-null   object \n",
      " 28  MasVnrArea     2566 non-null   float64\n",
      " 29  ExterQual      2580 non-null   object \n",
      " 30  ExterCond      2580 non-null   object \n",
      " 31  Foundation     2580 non-null   object \n",
      " 32  BsmtQual       2511 non-null   object \n",
      " 33  BsmtCond       2511 non-null   object \n",
      " 34  BsmtExposure   2509 non-null   object \n",
      " 35  BsmtFinType1   2511 non-null   object \n",
      " 36  BsmtFinSF1     2579 non-null   float64\n",
      " 37  BsmtFinType2   2510 non-null   object \n",
      " 38  BsmtFinSF2     2579 non-null   float64\n",
      " 39  BsmtUnfSF      2579 non-null   float64\n",
      " 40  TotalBsmtSF    2579 non-null   float64\n",
      " 41  Heating        2580 non-null   object \n",
      " 42  HeatingQC      2580 non-null   object \n",
      " 43  CentralAir     2580 non-null   object \n",
      " 44  Electrical     2579 non-null   object \n",
      " 45  1stFlrSF       2580 non-null   int64  \n",
      " 46  2ndFlrSF       2580 non-null   int64  \n",
      " 47  LowQualFinSF   2580 non-null   int64  \n",
      " 48  BsmtFullBath   2578 non-null   float64\n",
      " 49  BsmtHalfBath   2578 non-null   float64\n",
      " 50  FullBath       2580 non-null   int64  \n",
      " 51  HalfBath       2580 non-null   int64  \n",
      " 52  BedroomAbvGr   2580 non-null   int64  \n",
      " 53  KitchenAbvGr   2580 non-null   int64  \n",
      " 54  KitchenQual    2580 non-null   object \n",
      " 55  TotRmsAbvGrd   2580 non-null   int64  \n",
      " 56  Functional     2580 non-null   object \n",
      " 57  Fireplaces     2580 non-null   int64  \n",
      " 58  FireplaceQu    1339 non-null   object \n",
      " 59  GarageType     2453 non-null   object \n",
      " 60  GarageYrBlt    2451 non-null   float64\n",
      " 61  GarageFinish   2451 non-null   object \n",
      " 62  GarageCars     2579 non-null   float64\n",
      " 63  GarageArea     2579 non-null   float64\n",
      " 64  GarageQual     2451 non-null   object \n",
      " 65  GarageCond     2451 non-null   object \n",
      " 66  PavedDrive     2580 non-null   object \n",
      " 67  WoodDeckSF     2580 non-null   int64  \n",
      " 68  OpenPorchSF    2580 non-null   int64  \n",
      " 69  EnclosedPorch  2580 non-null   int64  \n",
      " 70  3SsnPorch      2580 non-null   int64  \n",
      " 71  ScreenPorch    2580 non-null   int64  \n",
      " 72  PoolArea       2580 non-null   int64  \n",
      " 73  PoolQC         9 non-null      object \n",
      " 74  Fence          525 non-null    object \n",
      " 75  MiscFeature    97 non-null     object \n",
      " 76  MiscVal        2580 non-null   int64  \n",
      " 77  MoSold         2580 non-null   int64  \n",
      " 78  YrSold         2580 non-null   int64  \n",
      " 79  SaleType       2580 non-null   object \n",
      " 80  SaleCondition  2580 non-null   object \n",
      "dtypes: float64(11), int64(27), object(43)\n",
      "memory usage: 1.6+ MB\n"
     ]
    }
   ],
   "source": [
    "houses_data.info() #some columns contain <0.1 of the observations... i suggest we dorp those values "
   ]
  },
  {
   "cell_type": "code",
   "execution_count": 21,
   "metadata": {},
   "outputs": [
    {
     "data": {
      "text/plain": [
       "587      0\n",
       "250      0\n",
       "378    201\n",
       "67     168\n",
       "182      0\n",
       "416      0\n",
       "739      0\n",
       "246      0\n",
       "331     90\n",
       "477     90\n",
       "Name: ScreenPorch, dtype: int64"
      ]
     },
     "execution_count": 21,
     "metadata": {},
     "output_type": "execute_result"
    }
   ],
   "source": [
    "houses_data.ScreenPorch.sample(10)"
   ]
  },
  {
   "cell_type": "code",
   "execution_count": 6,
   "metadata": {},
   "outputs": [
    {
     "data": {
      "text/plain": [
       "203    4\n",
       "575    3\n",
       "650    3\n",
       "499    4\n",
       "842    2\n",
       "Name: SaleBin, dtype: int64"
      ]
     },
     "execution_count": 6,
     "metadata": {},
     "output_type": "execute_result"
    }
   ],
   "source": [
    "houses_data['SaleBin'] = pd.cut(houses_data.SalePrice, 20, labels=False) # create a new column of the saleprice in 20 bins\n",
    "houses_data.SaleBin.sample(5)"
   ]
  },
  {
   "cell_type": "code",
   "execution_count": 7,
   "metadata": {},
   "outputs": [
    {
     "data": {
      "text/plain": [
       "(array([  8., 107., 392., 818., 514., 301., 183.,  98.,  68.,  36.,  24.,\n",
       "         11.,   8.,   2.,   3.,   2.,   4.,   0.,   0.,   1.]),\n",
       " array([ 12789.  ,  49899.55,  87010.1 , 124120.65, 161231.2 , 198341.75,\n",
       "        235452.3 , 272562.85, 309673.4 , 346783.95, 383894.5 , 421005.05,\n",
       "        458115.6 , 495226.15, 532336.7 , 569447.25, 606557.8 , 643668.35,\n",
       "        680778.9 , 717889.45, 755000.  ]),\n",
       " <a list of 20 Patch objects>)"
      ]
     },
     "execution_count": 7,
     "metadata": {},
     "output_type": "execute_result"
    },
    {
     "data": {
      "image/png": "[encoded data removed]",
      "text/plain": [
       "<Figure size 432x288 with 1 Axes>"
      ]
     },
     "metadata": {
      "needs_background": "light"
     },
     "output_type": "display_data"
    }
   ],
   "source": [
    "import matplotlib.pyplot as plt\n",
    "plt.hist(houses_data.SalePrice, 20) #sale price is skewed to the right. take log of sale price"
   ]
  },
  {
   "cell_type": "code",
   "execution_count": 8,
   "metadata": {},
   "outputs": [
    {
     "data": {
      "text/html": [
       "<div>\n",
       "<style scoped>\n",
       "    .dataframe tbody tr th:only-of-type {\n",
       "        vertical-align: middle;\n",
       "    }\n",
       "\n",
       "    .dataframe tbody tr th {\n",
       "        vertical-align: top;\n",
       "    }\n",
       "\n",
       "    .dataframe thead th {\n",
       "        text-align: right;\n",
       "    }\n",
       "</style>\n",
       "<table border=\"1\" class=\"dataframe\">\n",
       "  <thead>\n",
       "    <tr style=\"text-align: right;\">\n",
       "      <th></th>\n",
       "      <th>PID</th>\n",
       "      <th>GrLivArea</th>\n",
       "      <th>SalePrice</th>\n",
       "      <th>MSSubClass</th>\n",
       "      <th>LotFrontage</th>\n",
       "      <th>LotArea</th>\n",
       "      <th>OverallQual</th>\n",
       "      <th>OverallCond</th>\n",
       "      <th>YearBuilt</th>\n",
       "      <th>YearRemodAdd</th>\n",
       "      <th>...</th>\n",
       "      <th>WoodDeckSF</th>\n",
       "      <th>OpenPorchSF</th>\n",
       "      <th>EnclosedPorch</th>\n",
       "      <th>3SsnPorch</th>\n",
       "      <th>ScreenPorch</th>\n",
       "      <th>PoolArea</th>\n",
       "      <th>MiscVal</th>\n",
       "      <th>MoSold</th>\n",
       "      <th>YrSold</th>\n",
       "      <th>SaleBin</th>\n",
       "    </tr>\n",
       "  </thead>\n",
       "  <tbody>\n",
       "    <tr>\n",
       "      <th>count</th>\n",
       "      <td>2.580000e+03</td>\n",
       "      <td>2580.000000</td>\n",
       "      <td>2580.000000</td>\n",
       "      <td>2580.000000</td>\n",
       "      <td>2118.000000</td>\n",
       "      <td>2580.000000</td>\n",
       "      <td>2580.000000</td>\n",
       "      <td>2580.000000</td>\n",
       "      <td>2580.000000</td>\n",
       "      <td>2580.000000</td>\n",
       "      <td>...</td>\n",
       "      <td>2580.000000</td>\n",
       "      <td>2580.000000</td>\n",
       "      <td>2580.000000</td>\n",
       "      <td>2580.000000</td>\n",
       "      <td>2580.000000</td>\n",
       "      <td>2580.000000</td>\n",
       "      <td>2580.000000</td>\n",
       "      <td>2580.000000</td>\n",
       "      <td>2580.000000</td>\n",
       "      <td>2580.000000</td>\n",
       "    </tr>\n",
       "    <tr>\n",
       "      <th>mean</th>\n",
       "      <td>7.148300e+08</td>\n",
       "      <td>1486.039922</td>\n",
       "      <td>178059.623256</td>\n",
       "      <td>57.691860</td>\n",
       "      <td>68.516053</td>\n",
       "      <td>10120.153488</td>\n",
       "      <td>6.046124</td>\n",
       "      <td>5.618605</td>\n",
       "      <td>1970.313953</td>\n",
       "      <td>1983.751938</td>\n",
       "      <td>...</td>\n",
       "      <td>95.919767</td>\n",
       "      <td>46.085271</td>\n",
       "      <td>23.214341</td>\n",
       "      <td>2.511240</td>\n",
       "      <td>16.200388</td>\n",
       "      <td>1.662016</td>\n",
       "      <td>48.731395</td>\n",
       "      <td>6.150775</td>\n",
       "      <td>2007.838372</td>\n",
       "      <td>3.951938</td>\n",
       "    </tr>\n",
       "    <tr>\n",
       "      <th>std</th>\n",
       "      <td>1.886626e+08</td>\n",
       "      <td>488.650181</td>\n",
       "      <td>75031.089374</td>\n",
       "      <td>42.802105</td>\n",
       "      <td>22.835831</td>\n",
       "      <td>8126.937892</td>\n",
       "      <td>1.367590</td>\n",
       "      <td>1.122008</td>\n",
       "      <td>29.719705</td>\n",
       "      <td>20.490242</td>\n",
       "      <td>...</td>\n",
       "      <td>129.052016</td>\n",
       "      <td>66.060664</td>\n",
       "      <td>64.107825</td>\n",
       "      <td>25.293935</td>\n",
       "      <td>56.824783</td>\n",
       "      <td>30.339396</td>\n",
       "      <td>498.725058</td>\n",
       "      <td>2.670647</td>\n",
       "      <td>1.312333</td>\n",
       "      <td>2.045815</td>\n",
       "    </tr>\n",
       "    <tr>\n",
       "      <th>min</th>\n",
       "      <td>5.263011e+08</td>\n",
       "      <td>334.000000</td>\n",
       "      <td>12789.000000</td>\n",
       "      <td>20.000000</td>\n",
       "      <td>21.000000</td>\n",
       "      <td>1300.000000</td>\n",
       "      <td>1.000000</td>\n",
       "      <td>1.000000</td>\n",
       "      <td>1872.000000</td>\n",
       "      <td>1950.000000</td>\n",
       "      <td>...</td>\n",
       "      <td>0.000000</td>\n",
       "      <td>0.000000</td>\n",
       "      <td>0.000000</td>\n",
       "      <td>0.000000</td>\n",
       "      <td>0.000000</td>\n",
       "      <td>0.000000</td>\n",
       "      <td>0.000000</td>\n",
       "      <td>1.000000</td>\n",
       "      <td>2006.000000</td>\n",
       "      <td>0.000000</td>\n",
       "    </tr>\n",
       "    <tr>\n",
       "      <th>25%</th>\n",
       "      <td>5.313630e+08</td>\n",
       "      <td>1112.000000</td>\n",
       "      <td>129975.000000</td>\n",
       "      <td>20.000000</td>\n",
       "      <td>57.000000</td>\n",
       "      <td>7406.750000</td>\n",
       "      <td>5.000000</td>\n",
       "      <td>5.000000</td>\n",
       "      <td>1953.000000</td>\n",
       "      <td>1965.000000</td>\n",
       "      <td>...</td>\n",
       "      <td>0.000000</td>\n",
       "      <td>0.000000</td>\n",
       "      <td>0.000000</td>\n",
       "      <td>0.000000</td>\n",
       "      <td>0.000000</td>\n",
       "      <td>0.000000</td>\n",
       "      <td>0.000000</td>\n",
       "      <td>4.000000</td>\n",
       "      <td>2007.000000</td>\n",
       "      <td>3.000000</td>\n",
       "    </tr>\n",
       "    <tr>\n",
       "      <th>50%</th>\n",
       "      <td>5.354546e+08</td>\n",
       "      <td>1436.000000</td>\n",
       "      <td>159900.000000</td>\n",
       "      <td>50.000000</td>\n",
       "      <td>68.000000</td>\n",
       "      <td>9391.000000</td>\n",
       "      <td>6.000000</td>\n",
       "      <td>5.000000</td>\n",
       "      <td>1972.000000</td>\n",
       "      <td>1992.000000</td>\n",
       "      <td>...</td>\n",
       "      <td>0.000000</td>\n",
       "      <td>25.500000</td>\n",
       "      <td>0.000000</td>\n",
       "      <td>0.000000</td>\n",
       "      <td>0.000000</td>\n",
       "      <td>0.000000</td>\n",
       "      <td>0.000000</td>\n",
       "      <td>6.000000</td>\n",
       "      <td>2008.000000</td>\n",
       "      <td>3.000000</td>\n",
       "    </tr>\n",
       "    <tr>\n",
       "      <th>75%</th>\n",
       "      <td>9.071811e+08</td>\n",
       "      <td>1733.000000</td>\n",
       "      <td>209625.000000</td>\n",
       "      <td>70.000000</td>\n",
       "      <td>80.000000</td>\n",
       "      <td>11494.000000</td>\n",
       "      <td>7.000000</td>\n",
       "      <td>6.000000</td>\n",
       "      <td>1999.000000</td>\n",
       "      <td>2003.000000</td>\n",
       "      <td>...</td>\n",
       "      <td>168.000000</td>\n",
       "      <td>68.000000</td>\n",
       "      <td>0.000000</td>\n",
       "      <td>0.000000</td>\n",
       "      <td>0.000000</td>\n",
       "      <td>0.000000</td>\n",
       "      <td>0.000000</td>\n",
       "      <td>8.000000</td>\n",
       "      <td>2009.000000</td>\n",
       "      <td>5.000000</td>\n",
       "    </tr>\n",
       "    <tr>\n",
       "      <th>max</th>\n",
       "      <td>1.007100e+09</td>\n",
       "      <td>4676.000000</td>\n",
       "      <td>755000.000000</td>\n",
       "      <td>190.000000</td>\n",
       "      <td>313.000000</td>\n",
       "      <td>215245.000000</td>\n",
       "      <td>10.000000</td>\n",
       "      <td>9.000000</td>\n",
       "      <td>2010.000000</td>\n",
       "      <td>2010.000000</td>\n",
       "      <td>...</td>\n",
       "      <td>1424.000000</td>\n",
       "      <td>742.000000</td>\n",
       "      <td>1012.000000</td>\n",
       "      <td>508.000000</td>\n",
       "      <td>576.000000</td>\n",
       "      <td>800.000000</td>\n",
       "      <td>15500.000000</td>\n",
       "      <td>12.000000</td>\n",
       "      <td>2010.000000</td>\n",
       "      <td>19.000000</td>\n",
       "    </tr>\n",
       "  </tbody>\n",
       "</table>\n",
       "<p>8 rows × 39 columns</p>\n",
       "</div>"
      ],
      "text/plain": [
       "                PID    GrLivArea      SalePrice   MSSubClass  LotFrontage  \\\n",
       "count  2.580000e+03  2580.000000    2580.000000  2580.000000  2118.000000   \n",
       "mean   7.148300e+08  1486.039922  178059.623256    57.691860    68.516053   \n",
       "std    1.886626e+08   488.650181   75031.089374    42.802105    22.835831   \n",
       "min    5.263011e+08   334.000000   12789.000000    20.000000    21.000000   \n",
       "25%    5.313630e+08  1112.000000  129975.000000    20.000000    57.000000   \n",
       "50%    5.354546e+08  1436.000000  159900.000000    50.000000    68.000000   \n",
       "75%    9.071811e+08  1733.000000  209625.000000    70.000000    80.000000   \n",
       "max    1.007100e+09  4676.000000  755000.000000   190.000000   313.000000   \n",
       "\n",
       "             LotArea  OverallQual  OverallCond    YearBuilt  YearRemodAdd  \\\n",
       "count    2580.000000  2580.000000  2580.000000  2580.000000   2580.000000   \n",
       "mean    10120.153488     6.046124     5.618605  1970.313953   1983.751938   \n",
       "std      8126.937892     1.367590     1.122008    29.719705     20.490242   \n",
       "min      1300.000000     1.000000     1.000000  1872.000000   1950.000000   \n",
       "25%      7406.750000     5.000000     5.000000  1953.000000   1965.000000   \n",
       "50%      9391.000000     6.000000     5.000000  1972.000000   1992.000000   \n",
       "75%     11494.000000     7.000000     6.000000  1999.000000   2003.000000   \n",
       "max    215245.000000    10.000000     9.000000  2010.000000   2010.000000   \n",
       "\n",
       "       ...   WoodDeckSF  OpenPorchSF  EnclosedPorch    3SsnPorch  ScreenPorch  \\\n",
       "count  ...  2580.000000  2580.000000    2580.000000  2580.000000  2580.000000   \n",
       "mean   ...    95.919767    46.085271      23.214341     2.511240    16.200388   \n",
       "std    ...   129.052016    66.060664      64.107825    25.293935    56.824783   \n",
       "min    ...     0.000000     0.000000       0.000000     0.000000     0.000000   \n",
       "25%    ...     0.000000     0.000000       0.000000     0.000000     0.000000   \n",
       "50%    ...     0.000000    25.500000       0.000000     0.000000     0.000000   \n",
       "75%    ...   168.000000    68.000000       0.000000     0.000000     0.000000   \n",
       "max    ...  1424.000000   742.000000    1012.000000   508.000000   576.000000   \n",
       "\n",
       "          PoolArea       MiscVal       MoSold       YrSold      SaleBin  \n",
       "count  2580.000000   2580.000000  2580.000000  2580.000000  2580.000000  \n",
       "mean      1.662016     48.731395     6.150775  2007.838372     3.951938  \n",
       "std      30.339396    498.725058     2.670647     1.312333     2.045815  \n",
       "min       0.000000      0.000000     1.000000  2006.000000     0.000000  \n",
       "25%       0.000000      0.000000     4.000000  2007.000000     3.000000  \n",
       "50%       0.000000      0.000000     6.000000  2008.000000     3.000000  \n",
       "75%       0.000000      0.000000     8.000000  2009.000000     5.000000  \n",
       "max     800.000000  15500.000000    12.000000  2010.000000    19.000000  \n",
       "\n",
       "[8 rows x 39 columns]"
      ]
     },
     "execution_count": 8,
     "metadata": {},
     "output_type": "execute_result"
    }
   ],
   "source": [
    "#Basic univariate analysis\n",
    "houses_data.describe()"
   ]
  },
  {
   "cell_type": "code",
   "execution_count": 9,
   "metadata": {},
   "outputs": [
    {
     "data": {
      "text/plain": [
       "Y    2336\n",
       "N     184\n",
       "P      60\n",
       "Name: PavedDrive, dtype: int64"
      ]
     },
     "execution_count": 9,
     "metadata": {},
     "output_type": "execute_result"
    }
   ],
   "source": [
    "houses_data['PavedDrive'].value_counts()"
   ]
  },
  {
   "cell_type": "code",
   "execution_count": 10,
   "metadata": {},
   "outputs": [],
   "source": [
    "#create Age column (yr sold - yr built) for analysis"
   ]
  },
  {
   "cell_type": "code",
   "execution_count": 11,
   "metadata": {},
   "outputs": [
    {
     "name": "stderr",
     "output_type": "stream",
     "text": [
      "C:\\Users\\mobmo\\anaconda3\\lib\\site-packages\\IPython\\core\\interactiveshell.py:3063: DtypeWarning: Columns (36,40,81,87) have mixed types.Specify dtype option on import or set low_memory=False.\n",
      "  interactivity=interactivity, compiler=compiler, result=result)\n"
     ]
    },
    {
     "data": {
      "text/html": [
       "<div>\n",
       "<style scoped>\n",
       "    .dataframe tbody tr th:only-of-type {\n",
       "        vertical-align: middle;\n",
       "    }\n",
       "\n",
       "    .dataframe tbody tr th {\n",
       "        vertical-align: top;\n",
       "    }\n",
       "\n",
       "    .dataframe thead th {\n",
       "        text-align: right;\n",
       "    }\n",
       "</style>\n",
       "<table border=\"1\" class=\"dataframe\">\n",
       "  <thead>\n",
       "    <tr style=\"text-align: right;\">\n",
       "      <th></th>\n",
       "      <th>GeoRefNo</th>\n",
       "      <th>Tier</th>\n",
       "      <th>Range</th>\n",
       "      <th>Prop_Addr</th>\n",
       "      <th>ZngCdPr</th>\n",
       "      <th>ZngCdSc</th>\n",
       "      <th>ZngOLPr</th>\n",
       "      <th>ZngOLSc</th>\n",
       "      <th>ClassPr_S</th>\n",
       "      <th>ClassSc_S</th>\n",
       "      <th>...</th>\n",
       "      <th>PA-Nmbr</th>\n",
       "      <th>PA-PreD</th>\n",
       "      <th>PA-Strt</th>\n",
       "      <th>PA-StSfx</th>\n",
       "      <th>PA-PostD</th>\n",
       "      <th>PA-UnTyp</th>\n",
       "      <th>PA-UntNo</th>\n",
       "      <th>Date</th>\n",
       "      <th>Source</th>\n",
       "      <th>NmbrBRs</th>\n",
       "    </tr>\n",
       "    <tr>\n",
       "      <th>MapRefNo</th>\n",
       "      <th></th>\n",
       "      <th></th>\n",
       "      <th></th>\n",
       "      <th></th>\n",
       "      <th></th>\n",
       "      <th></th>\n",
       "      <th></th>\n",
       "      <th></th>\n",
       "      <th></th>\n",
       "      <th></th>\n",
       "      <th></th>\n",
       "      <th></th>\n",
       "      <th></th>\n",
       "      <th></th>\n",
       "      <th></th>\n",
       "      <th></th>\n",
       "      <th></th>\n",
       "      <th></th>\n",
       "      <th></th>\n",
       "      <th></th>\n",
       "      <th></th>\n",
       "    </tr>\n",
       "  </thead>\n",
       "  <tbody>\n",
       "    <tr>\n",
       "      <th>520400001</th>\n",
       "      <td>520400001</td>\n",
       "      <td>0</td>\n",
       "      <td>0</td>\n",
       "      <td>4599 GEORGE W CARVER AVE</td>\n",
       "      <td>FS-RL</td>\n",
       "      <td>NaN</td>\n",
       "      <td>NaN</td>\n",
       "      <td>NaN</td>\n",
       "      <td>RESIDENTIAL</td>\n",
       "      <td>VACANT LAND - IMPROVED OR UNIMPROVED</td>\n",
       "      <td>...</td>\n",
       "      <td>4599</td>\n",
       "      <td>NaN</td>\n",
       "      <td>GEORGE W CARVER</td>\n",
       "      <td>AVE</td>\n",
       "      <td>NaN</td>\n",
       "      <td>NaN</td>\n",
       "      <td>NaN</td>\n",
       "      <td>10-Jul-20</td>\n",
       "      <td>Ames City Assessor</td>\n",
       "      <td>NaN</td>\n",
       "    </tr>\n",
       "    <tr>\n",
       "      <th>520440010</th>\n",
       "      <td>520440010</td>\n",
       "      <td>0</td>\n",
       "      <td>0</td>\n",
       "      <td>4507 EVEREST  AVE</td>\n",
       "      <td>FS-RL</td>\n",
       "      <td>NaN</td>\n",
       "      <td>NaN</td>\n",
       "      <td>NaN</td>\n",
       "      <td>RESIDENTIAL</td>\n",
       "      <td>VACANT LAND - IMPROVED OR UNIMPROVED</td>\n",
       "      <td>...</td>\n",
       "      <td>4507</td>\n",
       "      <td>NaN</td>\n",
       "      <td>EVEREST</td>\n",
       "      <td>AVE</td>\n",
       "      <td>NaN</td>\n",
       "      <td>NaN</td>\n",
       "      <td>NaN</td>\n",
       "      <td>10-Jul-20</td>\n",
       "      <td>Ames City Assessor</td>\n",
       "      <td>NaN</td>\n",
       "    </tr>\n",
       "    <tr>\n",
       "      <th>520440020</th>\n",
       "      <td>520440020</td>\n",
       "      <td>0</td>\n",
       "      <td>0</td>\n",
       "      <td>4513 EVEREST  AVE</td>\n",
       "      <td>FS-RL</td>\n",
       "      <td>NaN</td>\n",
       "      <td>NaN</td>\n",
       "      <td>NaN</td>\n",
       "      <td>RESIDENTIAL</td>\n",
       "      <td>VACANT LAND - IMPROVED OR UNIMPROVED</td>\n",
       "      <td>...</td>\n",
       "      <td>4513</td>\n",
       "      <td>NaN</td>\n",
       "      <td>EVEREST</td>\n",
       "      <td>AVE</td>\n",
       "      <td>NaN</td>\n",
       "      <td>NaN</td>\n",
       "      <td>NaN</td>\n",
       "      <td>10-Jul-20</td>\n",
       "      <td>Ames City Assessor</td>\n",
       "      <td>NaN</td>\n",
       "    </tr>\n",
       "    <tr>\n",
       "      <th>520445001</th>\n",
       "      <td>520445001</td>\n",
       "      <td>0</td>\n",
       "      <td>0</td>\n",
       "      <td>3449 BARCELOS ST</td>\n",
       "      <td>FS-RL</td>\n",
       "      <td>NaN</td>\n",
       "      <td>NaN</td>\n",
       "      <td>NaN</td>\n",
       "      <td>RESIDENTIAL</td>\n",
       "      <td>ASSOCIATION COMMON AREA</td>\n",
       "      <td>...</td>\n",
       "      <td>3449</td>\n",
       "      <td>NaN</td>\n",
       "      <td>BARCELOS</td>\n",
       "      <td>ST</td>\n",
       "      <td>NaN</td>\n",
       "      <td>NaN</td>\n",
       "      <td>NaN</td>\n",
       "      <td>10-Jul-20</td>\n",
       "      <td>Ames City Assessor</td>\n",
       "      <td>NaN</td>\n",
       "    </tr>\n",
       "    <tr>\n",
       "      <th>520445010</th>\n",
       "      <td>520445010</td>\n",
       "      <td>0</td>\n",
       "      <td>0</td>\n",
       "      <td>4506 EVEREST  AVE</td>\n",
       "      <td>FS-RL</td>\n",
       "      <td>NaN</td>\n",
       "      <td>NaN</td>\n",
       "      <td>NaN</td>\n",
       "      <td>RESIDENTIAL</td>\n",
       "      <td>VACANT LAND - IMPROVED OR UNIMPROVED</td>\n",
       "      <td>...</td>\n",
       "      <td>4506</td>\n",
       "      <td>NaN</td>\n",
       "      <td>EVEREST</td>\n",
       "      <td>AVE</td>\n",
       "      <td>NaN</td>\n",
       "      <td>NaN</td>\n",
       "      <td>NaN</td>\n",
       "      <td>10-Jul-20</td>\n",
       "      <td>Ames City Assessor</td>\n",
       "      <td>NaN</td>\n",
       "    </tr>\n",
       "  </tbody>\n",
       "</table>\n",
       "<p>5 rows × 90 columns</p>\n",
       "</div>"
      ],
      "text/plain": [
       "            GeoRefNo  Tier  Range                 Prop_Addr ZngCdPr ZngCdSc  \\\n",
       "MapRefNo                                                                      \n",
       "520400001  520400001     0      0  4599 GEORGE W CARVER AVE   FS-RL     NaN   \n",
       "520440010  520440010     0      0         4507 EVEREST  AVE   FS-RL     NaN   \n",
       "520440020  520440020     0      0         4513 EVEREST  AVE   FS-RL     NaN   \n",
       "520445001  520445001     0      0          3449 BARCELOS ST   FS-RL     NaN   \n",
       "520445010  520445010     0      0         4506 EVEREST  AVE   FS-RL     NaN   \n",
       "\n",
       "          ZngOLPr ZngOLSc    ClassPr_S                             ClassSc_S  \\\n",
       "MapRefNo                                                                       \n",
       "520400001     NaN     NaN  RESIDENTIAL  VACANT LAND - IMPROVED OR UNIMPROVED   \n",
       "520440010     NaN     NaN  RESIDENTIAL  VACANT LAND - IMPROVED OR UNIMPROVED   \n",
       "520440020     NaN     NaN  RESIDENTIAL  VACANT LAND - IMPROVED OR UNIMPROVED   \n",
       "520445001     NaN     NaN  RESIDENTIAL               ASSOCIATION COMMON AREA   \n",
       "520445010     NaN     NaN  RESIDENTIAL  VACANT LAND - IMPROVED OR UNIMPROVED   \n",
       "\n",
       "           ... PA-Nmbr  PA-PreD          PA-Strt PA-StSfx PA-PostD PA-UnTyp  \\\n",
       "MapRefNo   ...                                                                \n",
       "520400001  ...    4599      NaN  GEORGE W CARVER      AVE      NaN      NaN   \n",
       "520440010  ...    4507      NaN          EVEREST      AVE      NaN      NaN   \n",
       "520440020  ...    4513      NaN          EVEREST      AVE      NaN      NaN   \n",
       "520445001  ...    3449      NaN         BARCELOS       ST      NaN      NaN   \n",
       "520445010  ...    4506      NaN          EVEREST      AVE      NaN      NaN   \n",
       "\n",
       "           PA-UntNo       Date              Source  NmbrBRs  \n",
       "MapRefNo                                                     \n",
       "520400001       NaN  10-Jul-20  Ames City Assessor      NaN  \n",
       "520440010       NaN  10-Jul-20  Ames City Assessor      NaN  \n",
       "520440020       NaN  10-Jul-20  Ames City Assessor      NaN  \n",
       "520445001       NaN  10-Jul-20  Ames City Assessor      NaN  \n",
       "520445010       NaN  10-Jul-20  Ames City Assessor      NaN  \n",
       "\n",
       "[5 rows x 90 columns]"
      ]
     },
     "execution_count": 11,
     "metadata": {},
     "output_type": "execute_result"
    }
   ],
   "source": [
    "realtor_data = pd.read_csv('./data/Ames_Real_Estate_Data.csv', index_col=0)\n",
    "realtor_data.head()"
   ]
  },
  {
   "cell_type": "code",
   "execution_count": 15,
   "metadata": {},
   "outputs": [
    {
     "data": {
      "text/plain": [
       "Index(['GeoRefNo', 'Tier', 'Range', 'Prop_Addr', 'ZngCdPr', 'ZngCdSc',\n",
       "       'ZngOLPr', 'ZngOLSc', 'ClassPr_S', 'ClassSc_S', 'Legal_Pr', 'SchD_S',\n",
       "       'TxD_S', 'MA_Ownr1', 'MA_Ownr2', 'MA_Line1', 'MA_Line2', 'MA_City',\n",
       "       'MA_State', 'MA_Zip1', 'MA_Zip2', 'Rcrd_Yr', 'Rcrd_Mo', 'Inst1_No',\n",
       "       'Inst1_Yr', 'Inst1_Mo', 'Inst1TPr', 'LndAc_S', 'ImpAc_S', 'OthAc_S',\n",
       "       'TtlVal_AsrYr', 'ValType', 'X1TPr_D', 'X1TSc_D', 'X2TPr_D', 'X2TSc_D',\n",
       "       'X1TPr_S', 'X1TSc_S', 'X2TPr_S', 'X2TSc_S', 'LndAcX1S', 'ImpAcX1S',\n",
       "       'ImpAcX2S', 'HSTtl_D', 'MilVal_D', 'HSTtl_S', 'MilVal_S', 'AcreX_S1',\n",
       "       'AcreGr', 'AcreNt_S', 'Neighborhood', 'LotArea', 'ParType', 'BldgNo_S',\n",
       "       'DwlgNo_S', 'BldgType', 'YrBuilt', 'HouseStyle', 'Foundation',\n",
       "       'RoofMatl', 'Ext1', 'Ext2', 'MasVnrType', 'Heating', 'Central Air',\n",
       "       'GLA', 'TtlBsmtSF', 'TotRmsAbvGrd', 'Fireplaces', 'PoolArea',\n",
       "       'GarageType', 'GarYrBlt', 'Cars', 'GarageArea', 'YrSold_YYYY',\n",
       "       'MoSold_MM', 'SalePrice', 'SaleType', 'SaleCond', 'ParclRel', 'PA-Nmbr',\n",
       "       'PA-PreD', 'PA-Strt', 'PA-StSfx', 'PA-PostD', 'PA-UnTyp', 'PA-UntNo',\n",
       "       'Date', 'Source', 'NmbrBRs'],\n",
       "      dtype='object')"
      ]
     },
     "execution_count": 15,
     "metadata": {},
     "output_type": "execute_result"
    }
   ],
   "source": [
    "realtor_data.columns"
   ]
  },
  {
   "cell_type": "code",
   "execution_count": 18,
   "metadata": {
    "scrolled": false
   },
   "outputs": [
    {
     "data": {
      "text/html": [
       "<div>\n",
       "<style scoped>\n",
       "    .dataframe tbody tr th:only-of-type {\n",
       "        vertical-align: middle;\n",
       "    }\n",
       "\n",
       "    .dataframe tbody tr th {\n",
       "        vertical-align: top;\n",
       "    }\n",
       "\n",
       "    .dataframe thead th {\n",
       "        text-align: right;\n",
       "    }\n",
       "</style>\n",
       "<table border=\"1\" class=\"dataframe\">\n",
       "  <thead>\n",
       "    <tr style=\"text-align: right;\">\n",
       "      <th></th>\n",
       "      <th>BsmtFinSF1</th>\n",
       "      <th>BsmtFinSF2</th>\n",
       "      <th>TotalBsmtSF</th>\n",
       "      <th>BsmtUnfSF</th>\n",
       "    </tr>\n",
       "  </thead>\n",
       "  <tbody>\n",
       "    <tr>\n",
       "      <th>1</th>\n",
       "      <td>238.0</td>\n",
       "      <td>0.0</td>\n",
       "      <td>856.0</td>\n",
       "      <td>618.0</td>\n",
       "    </tr>\n",
       "    <tr>\n",
       "      <th>2</th>\n",
       "      <td>552.0</td>\n",
       "      <td>393.0</td>\n",
       "      <td>1049.0</td>\n",
       "      <td>104.0</td>\n",
       "    </tr>\n",
       "    <tr>\n",
       "      <th>3</th>\n",
       "      <td>737.0</td>\n",
       "      <td>0.0</td>\n",
       "      <td>837.0</td>\n",
       "      <td>100.0</td>\n",
       "    </tr>\n",
       "    <tr>\n",
       "      <th>4</th>\n",
       "      <td>0.0</td>\n",
       "      <td>0.0</td>\n",
       "      <td>405.0</td>\n",
       "      <td>405.0</td>\n",
       "    </tr>\n",
       "    <tr>\n",
       "      <th>5</th>\n",
       "      <td>643.0</td>\n",
       "      <td>0.0</td>\n",
       "      <td>810.0</td>\n",
       "      <td>167.0</td>\n",
       "    </tr>\n",
       "  </tbody>\n",
       "</table>\n",
       "</div>"
      ],
      "text/plain": [
       "   BsmtFinSF1  BsmtFinSF2  TotalBsmtSF  BsmtUnfSF\n",
       "1       238.0         0.0        856.0      618.0\n",
       "2       552.0       393.0       1049.0      104.0\n",
       "3       737.0         0.0        837.0      100.0\n",
       "4         0.0         0.0        405.0      405.0\n",
       "5       643.0         0.0        810.0      167.0"
      ]
     },
     "execution_count": 18,
     "metadata": {},
     "output_type": "execute_result"
    }
   ],
   "source": [
    "#examine basement variables since its one of the principal factors affecting prices\n",
    "basement_var = houses_data[['BsmtFinSF1', 'BsmtFinSF2', 'TotalBsmtSF', 'BsmtUnfSF']].head()\n",
    "basement_var"
   ]
  },
  {
   "cell_type": "code",
   "execution_count": null,
   "metadata": {},
   "outputs": [],
   "source": [
    "import seaborn as sns\n",
    "corr = pd.concat([basement_var, houses_data['SalePrice']], axis=1).corr()\n",
    "sns.heatmap(corr)"
   ]
  },
  {
   "cell_type": "code",
   "execution_count": 23,
   "metadata": {},
   "outputs": [
    {
     "name": "stdout",
     "output_type": "stream",
     "text": [
      "178059.62325581396\n",
      "120.90396581277793\n"
     ]
    }
   ],
   "source": [
    "print(houses_data.SalePrice.mean())\n",
    "print(houses_data.Price_SF.mean())"
   ]
  },
  {
   "cell_type": "markdown",
   "metadata": {},
   "source": [
    "Some Feature Engineering"
   ]
  },
  {
   "cell_type": "code",
   "execution_count": 28,
   "metadata": {},
   "outputs": [
    {
     "data": {
      "text/plain": [
       "1      147.196262\n",
       "2      132.983794\n",
       "3      124.775225\n",
       "4      109.720885\n",
       "5      136.336336\n",
       "          ...    \n",
       "759    127.100840\n",
       "760     80.553953\n",
       "761     72.427572\n",
       "762    118.078176\n",
       "763    112.506541\n",
       "Name: Price_SF, Length: 2580, dtype: float64"
      ]
     },
     "execution_count": 28,
     "metadata": {},
     "output_type": "execute_result"
    }
   ],
   "source": [
    "#creating Price_per_sf variable to check how that can affect sales\n",
    "houses_data['Price_SF'] = houses_data.SalePrice / houses_data.GrLivArea\n",
    "houses_data.Price_SF"
   ]
  },
  {
   "cell_type": "code",
   "execution_count": 32,
   "metadata": {},
   "outputs": [],
   "source": [
    "houses_data['TotalSF'] = houses_data.TotalBsmtSF + houses_data.GrLivArea\n",
    "houses_data['GrLivArea'] = houses_data['1stFlrSF'] + houses_data['2ndFlrSF']"
   ]
  },
  {
   "cell_type": "code",
   "execution_count": 30,
   "metadata": {},
   "outputs": [
    {
     "data": {
      "text/plain": [
       "1      0\n",
       "2      0\n",
       "3      0\n",
       "4      0\n",
       "5      1\n",
       "      ..\n",
       "759    0\n",
       "760    0\n",
       "761    0\n",
       "762    0\n",
       "763    0\n",
       "Name: IsNew, Length: 2580, dtype: int64"
      ]
     },
     "execution_count": 30,
     "metadata": {},
     "output_type": "execute_result"
    }
   ],
   "source": [
    "houses_data['HasBasement'] = houses_data.TotalBsmtSF.apply(lambda x: 1 if x > 0 else 0)\n",
    "houses_data['HasGarage'] = houses_data.GarageArea.apply(lambda x: 1 if x > 0 else 0)\n",
    "houses_data['HasPool'] = houses_data.PoolArea.apply(lambda x: 1 if x > 0 else 0)\n",
    "houses_data['WasRemodeled'] = (houses_data.YearRemodAdd != houses_data.YearBuilt).astype(np.int64)\n",
    "houses_data['IsNew'] = (houses_data.YearBuilt > 2000).astype(np.int64)\n",
    "houses_data['WasCompleted'] = (houses_data.SaleCondition != 'Partial').astype(np.int64)\n",
    "houses_data.IsNew"
   ]
  },
  {
   "cell_type": "code",
   "execution_count": 1,
   "metadata": {},
   "outputs": [],
   "source": [
    "bool_variables = ['HasBasement', 'HasGarage', 'HasPorch', 'HasPool', 'WasRemodeled', 'IsNew', 'WasCompleted']"
   ]
  },
  {
   "cell_type": "code",
   "execution_count": null,
   "metadata": {},
   "outputs": [],
   "source": []
  },
  {
   "cell_type": "markdown",
   "metadata": {},
   "source": [
    "some descriptive analysis"
   ]
  },
  {
   "cell_type": "code",
   "execution_count": 10,
   "metadata": {},
   "outputs": [
    {
     "data": {
      "image/png": "[encoded data removed]",
      "text/plain": [
       "<Figure size 432x288 with 1 Axes>"
      ]
     },
     "metadata": {
      "needs_background": "light"
     },
     "output_type": "display_data"
    }
   ],
   "source": [
    "var = 'OverallQual'\n",
    "data = pd.concat([houses_data[\"SalePrice\"],houses_data[var]], axis=1)\n",
    "data.plot.scatter(x=var, y='SalePrice', ylim=(0,800000));"
   ]
  },
  {
   "cell_type": "code",
   "execution_count": 12,
   "metadata": {},
   "outputs": [
    {
     "name": "stdout",
     "output_type": "stream",
     "text": [
      "Oldest house built in 1872. Newest house built in 2010.\n"
     ]
    },
    {
     "data": {
      "image/png": "[encoded data removed]",
      "text/plain": [
       "<Figure size 864x288 with 1 Axes>"
      ]
     },
     "metadata": {
      "needs_background": "light"
     },
     "output_type": "display_data"
    }
   ],
   "source": [
    "import matplotlib.pyplot as plt\n",
    "print('Oldest house built in {}. Newest house built in {}.'.format(\n",
    "    houses_data.YearBuilt.min(), houses_data.YearBuilt.max()))\n",
    "houses_data.YearBuilt.hist(bins=14, rwidth=.9, figsize=(12,4))\n",
    "plt.title('When the houses built')\n",
    "plt.show()"
   ]
  },
  {
   "cell_type": "code",
   "execution_count": null,
   "metadata": {},
   "outputs": [],
   "source": []
  }
 ],
 "metadata": {
  "kernelspec": {
   "display_name": "Python 3",
   "language": "python",
   "name": "python3"
  },
  "language_info": {
   "codemirror_mode": {
    "name": "ipython",
    "version": 3
   },
   "file_extension": ".py",
   "mimetype": "text/x-python",
   "name": "python",
   "nbconvert_exporter": "python",
   "pygments_lexer": "ipython3",
   "version": "3.8.2"
  }
 },
 "nbformat": 4,
 "nbformat_minor": 4
}
