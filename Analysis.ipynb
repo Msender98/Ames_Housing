{
 "cells": [
  {
   "cell_type": "code",
   "execution_count": 1,
   "metadata": {},
   "outputs": [],
   "source": [
    "import pickle\n",
    "import numpy as np\n",
    "import folium"
   ]
  },
  {
   "cell_type": "markdown",
   "metadata": {},
   "source": [
    "### Housing Data Analysis\n",
    "Using models trained earlier (notebooks can be found in Archives folder) to analyse additional housing data from Ames, Iowa"
   ]
  },
  {
   "cell_type": "code",
   "execution_count": 2,
   "metadata": {},
   "outputs": [],
   "source": [
    "#Load cleaned housing data\n",
    "data = pickle.load(open('./pickles/realtor_clean.p','rb'))\n",
    "#Load residuals model\n",
    "residual_model = pickle.load(open('./pickles/final_model.p','rb'))\n",
    "#Load location model\n",
    "location_model = pickle.load(open('./pickles/location_model.p','rb'))"
   ]
  },
  {
   "cell_type": "code",
   "execution_count": 3,
   "metadata": {},
   "outputs": [],
   "source": [
    "#Randomly choose a house from the dataframe\n",
    "np.random.seed(42)\n",
    "test_old = data.drop(['Residuals'], axis = 1).iloc[np.random.randint(data.shape[0]),:].to_frame().transpose()"
   ]
  },
  {
   "cell_type": "code",
   "execution_count": 6,
   "metadata": {},
   "outputs": [
    {
     "data": {
      "text/plain": [
       "array([252781.6862173])"
      ]
     },
     "execution_count": 6,
     "metadata": {},
     "output_type": "execute_result"
    }
   ],
   "source": [
    "#Predicted price of the original house\n",
    "location_model.predict(test_old[['latitude','e_long']]) + \\\n",
    "residual_model.predict(test_old.drop(['e_long','Location_Price',\n",
    "                                      'latitude','longitude'],axis = 1))"
   ]
  },
  {
   "cell_type": "code",
   "execution_count": 10,
   "metadata": {},
   "outputs": [],
   "source": [
    "#Create a copy of the house to simulate renovation\n",
    "test_new = test_old.copy()"
   ]
  },
  {
   "cell_type": "code",
   "execution_count": 23,
   "metadata": {},
   "outputs": [
    {
     "data": {
      "text/plain": [
       "array([362608.07855769])"
      ]
     },
     "execution_count": 23,
     "metadata": {},
     "output_type": "execute_result"
    }
   ],
   "source": [
    "location_model.predict(test_old[['latitude','e_long']]) + residual_model.predict(test_new.drop(['e_long','Location_Price','latitude','longitude'],axis = 1))"
   ]
  },
  {
   "cell_type": "code",
   "execution_count": 17,
   "metadata": {},
   "outputs": [
    {
     "data": {
      "text/plain": [
       "array([109826.39234039])"
      ]
     },
     "execution_count": 17,
     "metadata": {},
     "output_type": "execute_result"
    }
   ],
   "source": [
    "#Simulate renovation by changing values\n",
    "test_new['Quarter_Q2'] = 0; test_new['Quarter_Q3'] = 1\n",
    "test_new['BsmtQual_Gd'] = 0; test_new['BsmtQual_Ex'] = 1\n",
    "test_new['Age'] = 0\n",
    "test_new['RoofMatl_CompShg'] = 0; test_new['RoofMatl_WdShngl'] = 1\n",
    "test_new['ExterQual_TA'] = 0; test_new['ExterQual_Ex'] = 1\n",
    "test_new['CentralAir_N'] = 0; test_new['CentralAir_Y'] = 1\n",
    "#Difference in residuals after renovation\n",
    "residual_model.predict(test_new.drop(['e_long','Location_Price',\n",
    "                                      'latitude','longitude'],axis = 1)) - residual_model.predict(test_old.drop(['e_long','Location_Price',\n",
    "                                      'latitude','longitude'],axis = 1))"
   ]
  },
  {
   "cell_type": "code",
   "execution_count": 16,
   "metadata": {},
   "outputs": [],
   "source": [
    "def potential(row):\n",
    "    '''\n",
    "    Calculate potential value after renovating property\n",
    "    '''\n",
    "    new_row = row.copy()\n",
    "    new_row.Age = 0\n",
    "    new_row.Quarter_Q2 = 0; new_row.Quarter_Q3 = 1\n",
    "    #ExterQual\n",
    "    new_row.loc[[col for col in new_row.index if 'ExterQual' in col]] =  0\n",
    "    new_row.ExterQual_Ex = 1\n",
    "    #Kitchenn\n",
    "    new_row.loc[[col for col in new_row.index if 'Kitchen' in col]] =  0\n",
    "    new_row.KitchenQual_Ex = 1\n",
    "    #Bsmt\n",
    "    new_row.loc[[col for col in new_row.index if 'BsmtQual' in col]] =  0\n",
    "    new_row.BsmtQual_Ex = 1\n",
    "    #Central_Air\n",
    "    new_row.CentralAir_N = 0\n",
    "    new_row.CentralAir_Y = 1\n",
    "    #Roof\n",
    "    new_row.loc[[col for col in new_row.index if 'Roof' in col]] =  0\n",
    "    new_row.RoofMatl_WdShngl = 1\n",
    "    #model\n",
    "    potential_ = residual_model.predict(new_row.drop(['Location_Price','longitude','latitude','e_long','Residuals']).to_frame().transpose()) - residual_model.predict(row.drop(['Location_Price','longitude','latitude','e_long','Residuals']).to_frame().transpose())\n",
    "    return(potential_)"
   ]
  },
  {
   "cell_type": "code",
   "execution_count": 18,
   "metadata": {},
   "outputs": [],
   "source": [
    "#Copy data to new dataframe\n",
    "data_w_potential = data.copy()\n",
    "#Run potential function and unpack array (default output from model)\n",
    "data_w_potential['potential'] = data.apply(potential,axis = 1)\n",
    "data_w_potential.loc[:,'potential'] = data_w_potential.loc[:,'potential'].apply(lambda x: x[0])"
   ]
  },
  {
   "cell_type": "code",
   "execution_count": 19,
   "metadata": {},
   "outputs": [],
   "source": [
    "#Choose the top 20 investment properties\n",
    "data_most_potential = data_w_potential.sort_values(by = 'potential')[-20:]"
   ]
  },
  {
   "cell_type": "code",
   "execution_count": 22,
   "metadata": {},
   "outputs": [
    {
     "data": {
      "text/plain": [
       "2751033.4469959675"
      ]
     },
     "execution_count": 22,
     "metadata": {},
     "output_type": "execute_result"
    }
   ],
   "source": [
    "#Total potential from 20 properites\n",
    "sum(data_most_potential.potential)"
   ]
  },
  {
   "cell_type": "code",
   "execution_count": 20,
   "metadata": {},
   "outputs": [
    {
     "data": {
      "text/html": [
       "<div style=\"width:100%;\"><div style=\"position:relative;width:100%;height:0;padding-bottom:60%;\"><span style=\"color:#565656\">Make this Notebook Trusted to load map: File -> Trust Notebook</span><iframe src=\"about:blank\" style=\"position:absolute;width:100%;height:100%;left:0;top:0;border:none !important;\" data-html=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 onload=\"this.contentDocument.open();this.contentDocument.write(atob(this.getAttribute('data-html')));this.contentDocument.close();\" allowfullscreen webkitallowfullscreen mozallowfullscreen></iframe></div></div>"
      ],
      "text/plain": [
       "<folium.folium.Map at 0x18090a0>"
      ]
     },
     "execution_count": 20,
     "metadata": {},
     "output_type": "execute_result"
    }
   ],
   "source": [
    "#Plot Potential investment properties\n",
    "m = folium.Map(location=[test_old.latitude,test_old.longitude],tiles='Stamen Toner')\n",
    "for i in range(0,data_most_potential.shape[0]):\n",
    "    folium.Marker(location = [data_most_potential.latitude.iloc[i], data_most_potential.longitude.iloc[i]]).add_to(m)\n",
    "m"
   ]
  },
  {
   "cell_type": "code",
   "execution_count": 21,
   "metadata": {},
   "outputs": [
    {
     "data": {
      "text/html": [
       "<div style=\"width:100%;\"><div style=\"position:relative;width:100%;height:0;padding-bottom:60%;\"><span style=\"color:#565656\">Make this Notebook Trusted to load map: File -> Trust Notebook</span><iframe src=\"about:blank\" style=\"position:absolute;width:100%;height:100%;left:0;top:0;border:none !important;\" data-html=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 onload=\"this.contentDocument.open();this.contentDocument.write(atob(this.getAttribute('data-html')));this.contentDocument.close();\" allowfullscreen webkitallowfullscreen mozallowfullscreen></iframe></div></div>"
      ],
      "text/plain": [
       "<folium.folium.Map at 0x63023d0>"
      ]
     },
     "execution_count": 21,
     "metadata": {},
     "output_type": "execute_result"
    }
   ],
   "source": [
    "#Plot example house from first test\n",
    "m = folium.Map(location=[test_old.latitude,test_old.longitude],tiles='Stamen Toner')\n",
    "folium.Marker([test_old.latitude,test_old.longitude],popup = 'Example House').add_to(m)\n",
    "m"
   ]
  },
  {
   "cell_type": "code",
   "execution_count": null,
   "metadata": {},
   "outputs": [],
   "source": []
  }
 ],
 "metadata": {
  "kernelspec": {
   "display_name": "Python 3",
   "language": "python",
   "name": "python3"
  },
  "language_info": {
   "codemirror_mode": {
    "name": "ipython",
    "version": 3
   },
   "file_extension": ".py",
   "mimetype": "text/x-python",
   "name": "python",
   "nbconvert_exporter": "python",
   "pygments_lexer": "ipython3",
   "version": "3.8.2"
  }
 },
 "nbformat": 4,
 "nbformat_minor": 4
}
